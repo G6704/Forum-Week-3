{
 "cells": [
  {
   "cell_type": "code",
   "execution_count": 2,
   "metadata": {},
   "outputs": [
    {
     "name": "stdout",
     "output_type": "stream",
     "text": [
      "78.53981633974483\n"
     ]
    }
   ],
   "source": [
    "#1.\n",
    "import math\n",
    "r = eval(input(\"please enter the radius:\"))\n",
    "area = math.pi*(r**2)\n",
    "print(area)"
   ]
  },
  {
   "cell_type": "code",
   "execution_count": 6,
   "metadata": {},
   "outputs": [
    {
     "name": "stdout",
     "output_type": "stream",
     "text": [
      "putra galih\n"
     ]
    }
   ],
   "source": [
    "#2\n",
    "Fname = input()\n",
    "Lname = input()\n",
    "print(Lname, Fname)"
   ]
  },
  {
   "cell_type": "code",
   "execution_count": 7,
   "metadata": {},
   "outputs": [
    {
     "name": "stdout",
     "output_type": "stream",
     "text": [
      "Red Black\n"
     ]
    }
   ],
   "source": [
    "#3\n",
    "color_list = [\"Red\",\"Green\",\"White\",\"Black\"]\n",
    "print(color_list[0], color_list[3])"
   ]
  },
  {
   "cell_type": "code",
   "execution_count": 9,
   "metadata": {},
   "outputs": [
    {
     "name": "stdout",
     "output_type": "stream",
     "text": [
      "155\n"
     ]
    }
   ],
   "source": [
    "#4\n",
    "n = int(input())\n",
    "value = n + (n*n) + (n*n*n) \n",
    "print(value)"
   ]
  },
  {
   "cell_type": "code",
   "execution_count": 11,
   "metadata": {},
   "outputs": [
    {
     "name": "stdout",
     "output_type": "stream",
     "text": [
      "This do be the volume tho 1436.76\n"
     ]
    }
   ],
   "source": [
    "#5\n",
    "#The volume of the sphere is : V = 4/3 × π × r3 = π × d3/6.\n",
    "import math\n",
    "r = eval(input())\n",
    "vol = (4/3) * math.pi * (r**3)\n",
    "print(\"This do be the volume tho\", round(vol,2))"
   ]
  },
  {
   "cell_type": "code",
   "execution_count": 15,
   "metadata": {},
   "outputs": [
    {
     "name": "stdout",
     "output_type": "stream",
     "text": [
      "2\n"
     ]
    }
   ],
   "source": [
    "#6\n",
    "inputTopG = eval(input())\n",
    "if inputTopG>17:\n",
    "    print((inputTopG-17)*2)\n",
    "else:\n",
    "    print(17-inputTopG)"
   ]
  },
  {
   "cell_type": "code",
   "execution_count": 17,
   "metadata": {},
   "outputs": [
    {
     "name": "stdout",
     "output_type": "stream",
     "text": [
      "9\n"
     ]
    }
   ],
   "source": [
    "#7\n",
    "l = eval(input(\"Input the loser number 3\"))\n",
    "m = eval(input(\"Input the loser number 2\"))\n",
    "a = eval(input(\"Input the loser number 3\"))\n",
    "if l==m and l==a and m==a:\n",
    "    print((l+m+a)*3)\n",
    "else:\n",
    "    print(l+m+a)"
   ]
  },
  {
   "cell_type": "code",
   "execution_count": 18,
   "metadata": {},
   "outputs": [
    {
     "name": "stdout",
     "output_type": "stream",
     "text": [
      "4 is an even number\n"
     ]
    }
   ],
   "source": [
    "#8\n",
    "l = eval(input())\n",
    "if l%2 == 0:\n",
    "    print(l, \"is an even number\")\n",
    "else:\n",
    "    print(l, \"is an odd number\")"
   ]
  },
  {
   "cell_type": "code",
   "execution_count": 22,
   "metadata": {},
   "outputs": [
    {
     "name": "stdout",
     "output_type": "stream",
     "text": [
      "dis shit not right\n"
     ]
    }
   ],
   "source": [
    "#9\n",
    "#a e i o u \n",
    "daletta = input(\"plese enter daletta:\")\n",
    "vowels = [\"a\", \"e\" ,\"i\" ,\"o\" ,\"u\"]\n",
    "if daletta in vowels:\n",
    "    print(daletta,\"is a vowel\")\n",
    "else:\n",
    "    print(\"dis shit not right\")"
   ]
  },
  {
   "cell_type": "code",
   "execution_count": 28,
   "metadata": {},
   "outputs": [
    {
     "name": "stdout",
     "output_type": "stream",
     "text": [
      "that shit in\n"
     ]
    }
   ],
   "source": [
    "#10\n",
    "daWord = input(\"give me da value\")\n",
    "val = [\"morg\", \"zorg\", \"dorg\",\"borg\", \"69\"]\n",
    "if daWord in val:\n",
    "    print (\"ayo that thing in my values\")\n",
    "else:\n",
    "    print(\"you all good my g\")"
   ]
  },
  {
   "cell_type": "code",
   "execution_count": null,
   "metadata": {},
   "outputs": [],
   "source": [
    "#11\n",
    "import matplotlib.pyplot as plt\n",
    "height = [160,178,180,145,160,180,155,160,155,160,145,145,178,180]\n",
    "plt.hist(height, bins=10)\n",
    "plt.show()"
   ]
  },
  {
   "cell_type": "code",
   "execution_count": 30,
   "metadata": {},
   "outputs": [
    {
     "name": "stdout",
     "output_type": "stream",
     "text": [
      "[386, 462, 418, 344, 236, 566, 978, 328, 162, 758, 918, 412, 566, 826, 248, 866, 950, 626, 104, 58, 512, 24, 892, 894, 742, 958] This lowkey sick\n"
     ]
    }
   ],
   "source": [
    "#12\n",
    "allDaNumba = [386, 462, 47, 418, 907, 344, 236, 375, 823, 566, 597, 978, 328, 615, 953, 345, 399, 162, 758, 219, 918, 237, 412, 566, 826, 248, 866, 950, 626, 949, 687, 217, 815, 67, 104, 58, 512, 24, 892, 894, 767, 553, 81, 379, 843, 831, 445, 742, 717, 958,743, 527]\n",
    "disEmpty = []\n",
    "for i in allDaNumba:\n",
    "    if i%2 == 0:\n",
    "        disEmpty.append(i)\n",
    "print(disEmpty, \"This lowkey sick\")\n"
   ]
  },
  {
   "cell_type": "code",
   "execution_count": 31,
   "metadata": {},
   "outputs": [
    {
     "name": "stdout",
     "output_type": "stream",
     "text": [
      "da answer  4.0\n"
     ]
    }
   ],
   "source": [
    "#13\n",
    "#/2 * base * heigt:\n",
    "bBoy = eval(input(\"enter da base \"))\n",
    "hBoy = eval(input(\"enter da height \"))\n",
    "aBoy = (1/2)*bBoy*hBoy\n",
    "print(\"da answer \", aBoy)"
   ]
  },
  {
   "cell_type": "code",
   "execution_count": 34,
   "metadata": {},
   "outputs": [
    {
     "name": "stdout",
     "output_type": "stream",
     "text": [
      "the LCM is 40\n"
     ]
    }
   ],
   "source": [
    "#14\n",
    "import math\n",
    "l,m = eval(input(\"please input two numbers:\"))\n",
    "print(\"the LCM is\", math.lcm(l,m))"
   ]
  },
  {
   "cell_type": "code",
   "execution_count": 36,
   "metadata": {},
   "outputs": [
    {
     "name": "stdout",
     "output_type": "stream",
     "text": [
      "0\n"
     ]
    }
   ],
   "source": [
    "#15\n",
    "num1 = int(input())\n",
    "num2 = int(input())\n",
    "num3 = int(input())\n",
    "if num1==num2 or num1==num3 or num2==num3:\n",
    "    print(\"0\")\n",
    "else:\n",
    "    print(num1+num2+num3)"
   ]
  },
  {
   "cell_type": "code",
   "execution_count": 37,
   "metadata": {},
   "outputs": [
    {
     "name": "stdout",
     "output_type": "stream",
     "text": [
      "(4 + 3) ^ 2) =  49\n"
     ]
    }
   ],
   "source": [
    "#16\n",
    "x = 4\n",
    "y = 3\n",
    "ans = (x+y)*(x+y)\n",
    "print(\"(4 + 3) ^ 2) = \",ans)"
   ]
  },
  {
   "cell_type": "code",
   "execution_count": 44,
   "metadata": {},
   "outputs": [
    {
     "name": "stdout",
     "output_type": "stream",
     "text": [
      "12722.792627665729\n"
     ]
    }
   ],
   "source": [
    "#17\n",
    "#FV=PV(1+r)^n\n",
    "amt = 10000\n",
    "int = 3.5\n",
    "years = 7\n",
    "futureValue = amt*((1+(int/100))**years)\n",
    "print(futureValue)"
   ]
  },
  {
   "cell_type": "code",
   "execution_count": 46,
   "metadata": {},
   "outputs": [
    {
     "name": "stdout",
     "output_type": "stream",
     "text": [
      "1.4142135623730951\n"
     ]
    }
   ],
   "source": [
    "#18\n",
    "#d=√((x_2-x_1)²+(y_2-y_1)²)\n",
    "import math\n",
    "x1,y1 = eval(input())\n",
    "x2,y2 = eval(input())\n",
    "d = math.sqrt(((x2-x1)**2)+((y2-y1)**2))\n",
    "print(d) "
   ]
  },
  {
   "cell_type": "code",
   "execution_count": 49,
   "metadata": {},
   "outputs": [
    {
     "name": "stdout",
     "output_type": "stream",
     "text": [
      "0\n"
     ]
    }
   ],
   "source": [
    "#19\n",
    "sum = 0\n",
    "for i in range(1,sum+1):\n",
    "    sum += i\n",
    "print(sum)"
   ]
  },
  {
   "cell_type": "code",
   "execution_count": 50,
   "metadata": {},
   "outputs": [
    {
     "name": "stdout",
     "output_type": "stream",
     "text": [
      "162.66 Cm\n"
     ]
    }
   ],
   "source": [
    "#20\n",
    "f = eval(input())\n",
    "i = eval(input())\n",
    "fRes = f*30.5\n",
    "iRes = i*2.54\n",
    "cM = fRes + iRes\n",
    "print(cM,\"Cm\")"
   ]
  },
  {
   "cell_type": "code",
   "execution_count": 51,
   "metadata": {},
   "outputs": [
    {
     "name": "stdout",
     "output_type": "stream",
     "text": [
      "5.656854249492381\n"
     ]
    }
   ],
   "source": [
    "#21\n",
    "import math\n",
    "a = eval(input())\n",
    "b = eval(input())\n",
    "hype = math.sqrt((a**2)+(a**2))\n",
    "print(hype)"
   ]
  },
  {
   "cell_type": "code",
   "execution_count": 56,
   "metadata": {},
   "outputs": [
    {
     "name": "stdout",
     "output_type": "stream",
     "text": [
      "23.888440980620498 This is your BMI\n"
     ]
    }
   ],
   "source": [
    "#22\n",
    "w = eval(input(\"Enter in Kg \"))\n",
    "h = eval(input(\"enter in meters \"))\n",
    "bmi = w/h**2\n",
    "print(bmi,\"This is your BMI\")"
   ]
  },
  {
   "cell_type": "code",
   "execution_count": 59,
   "metadata": {},
   "outputs": [
    {
     "name": "stdout",
     "output_type": "stream",
     "text": [
      "4.5 , 5.0\n"
     ]
    }
   ],
   "source": [
    "#23\n",
    "x1,y1 = eval(input())\n",
    "x2,y2 = eval(input())\n",
    "midPointx = (x1 + x2)/2\n",
    "midPointy = (y1 + x2)/2\n",
    "print(midPointx, \",\", midPointy)"
   ]
  },
  {
   "cell_type": "code",
   "execution_count": 61,
   "metadata": {},
   "outputs": [
    {
     "name": "stdout",
     "output_type": "stream",
     "text": [
      "2002,2009,2016,2023,2037,2044,2051,2058,2072,2079,2086,2093,2107,2114,2121,2128,2142,2149,2156,2163,2177,2184,2191,2198,2212,2219,2226,2233,2247,2254,2261,2268,2282,2289,2296,2303,2317,2324,2331,2338,2352,2359,2366,2373,2387,2394,2401,2408,2422,2429,2436,2443,2457,2464,2471,2478,2492,2499,2506,2513,2527,2534,2541,2548,2562,2569,2576,2583,2597,2604,2611,2618,2632,2639,2646,2653,2667,2674,2681,2688,2702,2709,2716,2723,2737,2744,2751,2758,2772,2779,2786,2793,2807,2814,2821,2828,2842,2849,2856,2863,2877,2884,2891,2898,2912,2919,2926,2933,2947,2954,2961,2968,2982,2989,2996,3003,3017,3024,3031,3038,3052,3059,3066,3073,3087,3094,3101,3108,3122,3129,3136,3143,3157,3164,3171,3178,3192,3199\n"
     ]
    }
   ],
   "source": [
    "#24\n",
    "list = []\n",
    "for i in range(2000,3200):\n",
    "    if i%7==0 and i%5!=0:\n",
    "        list.append(str(i))\n",
    "print(\",\".join(list))"
   ]
  }
 ],
 "metadata": {
  "kernelspec": {
   "display_name": "Python 3.10.7 64-bit",
   "language": "python",
   "name": "python3"
  },
  "language_info": {
   "codemirror_mode": {
    "name": "ipython",
    "version": 3
   },
   "file_extension": ".py",
   "mimetype": "text/x-python",
   "name": "python",
   "nbconvert_exporter": "python",
   "pygments_lexer": "ipython3",
   "version": "3.10.7"
  },
  "orig_nbformat": 4,
  "vscode": {
   "interpreter": {
    "hash": "aee8b7b246df8f9039afb4144a1f6fd8d2ca17a180786b69acc140d282b71a49"
   }
  }
 },
 "nbformat": 4,
 "nbformat_minor": 2
}
